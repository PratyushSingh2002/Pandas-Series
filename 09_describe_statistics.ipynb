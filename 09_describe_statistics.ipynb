{
 "cells": [
  {
   "cell_type": "code",
   "execution_count": 13,
   "id": "980fbad6",
   "metadata": {},
   "outputs": [],
   "source": [
    "import pandas as pd"
   ]
  },
  {
   "cell_type": "code",
   "execution_count": 14,
   "id": "ed36ec21",
   "metadata": {},
   "outputs": [],
   "source": [
    "df=pd.read_csv(\"global_population_stats_2024.csv\")"
   ]
  },
  {
   "cell_type": "code",
   "execution_count": 15,
   "id": "081ab3ca",
   "metadata": {},
   "outputs": [
    {
     "name": "stdout",
     "output_type": "stream",
     "text": [
      "         Country  Population Aged 0 to 14 (%)  \\\n",
      "0    Afghanistan                         42.9   \n",
      "1        Albania                         16.8   \n",
      "2        Algeria                         30.3   \n",
      "3        Andorra                         11.9   \n",
      "4         Angola                         44.4   \n",
      "..           ...                          ...   \n",
      "187    Venezuela                         25.5   \n",
      "188      Vietnam                         23.2   \n",
      "189        Yemen                         41.1   \n",
      "190       Zambia                         41.5   \n",
      "191     Zimbabwe                         40.9   \n",
      "\n",
      "     Population Aged 60 and Over (%)  Population density  \\\n",
      "0                                3.9                65.7   \n",
      "1                               23.5               101.9   \n",
      "2                               10.0                19.7   \n",
      "3                               23.2               174.3   \n",
      "4                                4.6                30.4   \n",
      "..                               ...                 ...   \n",
      "187                             14.3                31.0   \n",
      "188                             13.9               322.2   \n",
      "189                              4.0                76.9   \n",
      "190                              3.3                28.7   \n",
      "191                              5.0                43.0   \n",
      "\n",
      "     Population(in millions)  Female Population(in millions)  \\\n",
      "0                      42.65                           21.12   \n",
      "1                       2.79                            1.41   \n",
      "2                      46.81                           22.94   \n",
      "3                       0.08                            0.04   \n",
      "4                      37.89                           19.14   \n",
      "..                       ...                             ...   \n",
      "187                    28.41                           14.37   \n",
      "188                   100.99                           51.53   \n",
      "189                    40.58                           20.03   \n",
      "190                    21.32                           10.76   \n",
      "191                    16.63                            8.71   \n",
      "\n",
      "     Male Population(in millions)  Sex ratio (males per 100 females)  \n",
      "0                           21.53                              102.0  \n",
      "1                            1.38                               97.8  \n",
      "2                           23.87                              104.1  \n",
      "3                            0.04                              104.6  \n",
      "4                           18.75                               98.0  \n",
      "..                            ...                                ...  \n",
      "187                         14.03                               97.6  \n",
      "188                         49.46                               96.0  \n",
      "189                         20.56                              102.7  \n",
      "190                         10.55                               98.0  \n",
      "191                          7.93                               91.1  \n",
      "\n",
      "[192 rows x 8 columns]\n"
     ]
    }
   ],
   "source": [
    "print(df)"
   ]
  },
  {
   "cell_type": "code",
   "execution_count": null,
   "id": "51254ee0",
   "metadata": {},
   "outputs": [
    {
     "name": "stdout",
     "output_type": "stream",
     "text": [
      "       Population Aged 0 to 14 (%)  Population Aged 60 and Over (%)  \\\n",
      "count                   192.000000                       192.000000   \n",
      "mean                     26.308333                        14.167188   \n",
      "std                      10.328998                         9.106158   \n",
      "min                      10.600000                         3.300000   \n",
      "25%                      17.000000                         6.100000   \n",
      "50%                      24.650000                        11.250000   \n",
      "75%                      36.350000                        22.250000   \n",
      "max                      49.000000                        43.500000   \n",
      "\n",
      "       Population density  Population(in millions)  \\\n",
      "count          192.000000               192.000000   \n",
      "mean           348.131771                42.267812   \n",
      "std           1969.940293               151.787795   \n",
      "min              2.200000                 0.010000   \n",
      "25%             36.550000                 2.180000   \n",
      "50%             90.300000                 9.455000   \n",
      "75%            209.725000                32.467500   \n",
      "max          25926.800000              1450.940000   \n",
      "\n",
      "       Female Population(in millions)  Male Population(in millions)  \\\n",
      "count                      192.000000                    192.000000   \n",
      "mean                        21.012708                     21.255156   \n",
      "std                         74.169644                     77.631324   \n",
      "min                          0.000000                      0.000000   \n",
      "25%                          1.037500                      1.082500   \n",
      "50%                          4.720000                      4.660000   \n",
      "75%                         15.750000                     16.387500   \n",
      "max                        702.610000                    748.320000   \n",
      "\n",
      "       Sex ratio (males per 100 females)  \n",
      "count                         192.000000  \n",
      "mean                          101.186458  \n",
      "std                            16.366059  \n",
      "min                            85.200000  \n",
      "25%                            95.950000  \n",
      "50%                            98.700000  \n",
      "75%                           101.400000  \n",
      "max                           248.200000  \n"
     ]
    }
   ],
   "source": [
    "print(df.describe()) #It provides statisctical data\n",
    "\n",
    "#        Population Aged 0 to 14 (%)  Population Aged 60 and Over (%)  \\\n",
    "# count                   192.000000                       192.000000   \n",
    "# mean                     26.308333                        14.167188   \n",
    "# std                      10.328998                         9.106158   \n",
    "# min                      10.600000                         3.300000   \n",
    "# 25%                      17.000000                         6.100000   \n",
    "# 50%                      24.650000                        11.250000   \n",
    "# 75%                      36.350000                        22.250000   \n",
    "# max                      49.000000                        43.500000   \n",
    "\n",
    "#        Population density  Population(in millions)  \\\n",
    "# count          192.000000               192.000000   \n",
    "# mean           348.131771                42.267812   \n",
    "# std           1969.940293               151.787795   \n",
    "# min              2.200000                 0.010000   \n",
    "# 25%             36.550000                 2.180000   \n",
    "# 50%             90.300000                 9.455000   \n",
    "# 75%            209.725000                32.467500   \n",
    "# max          25926.800000              1450.940000   \n",
    "\n",
    "#        Female Population(in millions)  Male Population(in millions)  \\\n",
    "# count                      192.000000                    192.000000   \n",
    "# mean                        21.012708                     21.255156   \n",
    "# std                         74.169644                     77.631324   \n",
    "# min                          0.000000                      0.000000   \n",
    "# ...\n",
    "# 25%                            95.950000  \n",
    "# 50%                            98.700000  \n",
    "# 75%                           101.400000  \n",
    "# max                           248.200000  \n"
   ]
  },
  {
   "cell_type": "code",
   "execution_count": null,
   "id": "57d9d979",
   "metadata": {},
   "outputs": [],
   "source": []
  },
  {
   "cell_type": "code",
   "execution_count": null,
   "id": "5a486963",
   "metadata": {},
   "outputs": [],
   "source": []
  }
 ],
 "metadata": {
  "kernelspec": {
   "display_name": "Python 3 (ipykernel)",
   "language": "python",
   "name": "python3"
  },
  "language_info": {
   "codemirror_mode": {
    "name": "ipython",
    "version": 3
   },
   "file_extension": ".py",
   "mimetype": "text/x-python",
   "name": "python",
   "nbconvert_exporter": "python",
   "pygments_lexer": "ipython3",
   "version": "3.12.3"
  }
 },
 "nbformat": 4,
 "nbformat_minor": 5
}
