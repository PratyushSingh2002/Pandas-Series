{
 "cells": [
  {
   "cell_type": "code",
   "execution_count": 24,
   "id": "48889984",
   "metadata": {},
   "outputs": [],
   "source": [
    "import pandas as pd\n",
    "import numpy as np"
   ]
  },
  {
   "cell_type": "code",
   "execution_count": 25,
   "id": "e8b24e53",
   "metadata": {},
   "outputs": [],
   "source": [
    "data = {\n",
    "    'Name': ['Amit', 'Priya', 'Rahul', 'Sneha', None],\n",
    "    'Age': [25, 30, np.nan, 22, 28],\n",
    "    'City': ['Delhi', None, 'Mumbai', 'Pune', 'Bangalore']\n",
    "}"
   ]
  },
  {
   "cell_type": "code",
   "execution_count": 26,
   "id": "9e82f679",
   "metadata": {},
   "outputs": [],
   "source": [
    "df=pd.DataFrame(data)"
   ]
  },
  {
   "cell_type": "code",
   "execution_count": 27,
   "id": "4d3fa379",
   "metadata": {},
   "outputs": [
    {
     "name": "stdout",
     "output_type": "stream",
     "text": [
      "    Name   Age       City\n",
      "0   Amit  25.0      Delhi\n",
      "1  Priya  30.0       None\n",
      "2  Rahul   NaN     Mumbai\n",
      "3  Sneha  22.0       Pune\n",
      "4   None  28.0  Bangalore\n"
     ]
    }
   ],
   "source": [
    "print(df)"
   ]
  },
  {
   "cell_type": "markdown",
   "id": "f1394f8e",
   "metadata": {},
   "source": [
    "isnull() method is used to check missing value in column"
   ]
  },
  {
   "cell_type": "code",
   "execution_count": 28,
   "id": "b68ff159",
   "metadata": {},
   "outputs": [
    {
     "name": "stdout",
     "output_type": "stream",
     "text": [
      "    Name    Age   City\n",
      "0  False  False  False\n",
      "1  False  False   True\n",
      "2  False   True  False\n",
      "3  False  False  False\n",
      "4   True  False  False\n"
     ]
    }
   ],
   "source": [
    "print(df.isnull())"
   ]
  },
  {
   "cell_type": "code",
   "execution_count": 29,
   "id": "b39c15a3",
   "metadata": {},
   "outputs": [
    {
     "name": "stdout",
     "output_type": "stream",
     "text": [
      "Name    1\n",
      "Age     1\n",
      "City    1\n",
      "dtype: int64\n"
     ]
    }
   ],
   "source": [
    "print(df.isnull().sum())  #it displays total number of missing value columnwise"
   ]
  }
 ],
 "metadata": {
  "kernelspec": {
   "display_name": "myenv",
   "language": "python",
   "name": "python3"
  },
  "language_info": {
   "codemirror_mode": {
    "name": "ipython",
    "version": 3
   },
   "file_extension": ".py",
   "mimetype": "text/x-python",
   "name": "python",
   "nbconvert_exporter": "python",
   "pygments_lexer": "ipython3",
   "version": "3.12.3"
  }
 },
 "nbformat": 4,
 "nbformat_minor": 5
}
