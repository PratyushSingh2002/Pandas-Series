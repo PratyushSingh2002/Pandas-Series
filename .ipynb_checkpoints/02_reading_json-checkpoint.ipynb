{
 "cells": [
  {
   "cell_type": "code",
   "execution_count": null,
   "id": "a67074fc",
   "metadata": {},
   "outputs": [],
   "source": [
    "import pandas as pd\n",
    "df=pd.read_json(\"students.json\")\n",
    "print(pd)"
   ]
  },
  {
   "cell_type": "code",
   "execution_count": null,
   "id": "3f8354e6",
   "metadata": {},
   "outputs": [],
   "source": [
    "df=pd.read_json(\"students.json\")"
   ]
  },
  {
   "cell_type": "code",
   "execution_count": null,
   "id": "080b23c4",
   "metadata": {},
   "outputs": [],
   "source": [
    "print(df)"
   ]
  },
  {
   "cell_type": "code",
   "execution_count": null,
   "id": "cc6d2c6c",
   "metadata": {},
   "outputs": [],
   "source": []
  }
 ],
 "metadata": {
  "kernelspec": {
   "display_name": "myenv",
   "language": "python",
   "name": "python3"
  },
  "language_info": {
   "codemirror_mode": {
    "name": "ipython",
    "version": 3
   },
   "file_extension": ".py",
   "mimetype": "text/x-python",
   "name": "python",
   "nbconvert_exporter": "python",
   "pygments_lexer": "ipython3",
   "version": "3.12.3"
  }
 },
 "nbformat": 4,
 "nbformat_minor": 5
}
