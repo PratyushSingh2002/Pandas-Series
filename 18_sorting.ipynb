{
 "cells": [
  {
   "cell_type": "code",
   "execution_count": 55,
   "id": "c3b008e0",
   "metadata": {},
   "outputs": [],
   "source": [
    "import pandas as pd "
   ]
  },
  {
   "cell_type": "markdown",
   "id": "51bd552c",
   "metadata": {},
   "source": [
    "for sorting data of the  column we use sort_values() its takes three parameters\n",
    "sort(by=\"Column_name\",ascending=True/False,inplace=True/False)\n",
    "\n",
    "# Example \n",
    "df.sort_values(by=\"Population Aged 0 to 14 (%)\",ascending=False,inplace=True)\n"
   ]
  },
  {
   "cell_type": "code",
   "execution_count": 56,
   "id": "d035a47f",
   "metadata": {},
   "outputs": [
    {
     "name": "stdout",
     "output_type": "stream",
     "text": [
      "Before Sorting\n",
      "                Country  Population Aged 0 to 14 (%)\n",
      "0           Afghanistan                         42.9\n",
      "1               Albania                         16.8\n",
      "2               Algeria                         30.3\n",
      "3               Andorra                         11.9\n",
      "4                Angola                         44.4\n",
      "5   Antigua and Barbuda                         17.8\n",
      "6             Argentina                         21.6\n",
      "7               Armenia                         19.2\n",
      "8             Australia                         17.8\n",
      "9               Austria                         14.2\n",
      "10           Azerbaijan                         21.8\n",
      "11              Bahamas                         17.9\n",
      "12              Bahrain                         18.7\n",
      "13           Bangladesh                         28.0\n",
      "14             Barbados                         17.2\n",
      "15              Belarus                         16.3\n",
      "16              Belgium                         16.0\n",
      "17               Belize                         26.6\n",
      "18                Benin                         41.6\n",
      "19               Bhutan                         20.9\n"
     ]
    }
   ],
   "source": [
    "df=pd.read_csv(\"global_population_stats_2024.csv\")\n",
    "print(\"Before Sorting\")\n",
    "print(df[['Country','Population Aged 0 to 14 (%)']].head(20))"
   ]
  },
  {
   "cell_type": "code",
   "execution_count": 57,
   "id": "24fb6d86-da9b-4a76-b194-2069796fc70e",
   "metadata": {},
   "outputs": [
    {
     "name": "stdout",
     "output_type": "stream",
     "text": [
      "After Sorting\n",
      "                              Country  Population Aged 0 to 14 (%)\n",
      "32           Central African Republic                         49.0\n",
      "124                             Niger                         46.6\n",
      "158                           Somalia                         46.6\n",
      "33                               Chad                         46.1\n",
      "105                              Mali                         46.1\n",
      "46   Democratic Republic of the Congo                         46.0\n",
      "27                            Burundi                         44.7\n",
      "116                        Mozambique                         44.5\n",
      "4                              Angola                         44.4\n",
      "178                            Uganda                         43.5\n",
      "0                         Afghanistan                         42.9\n",
      "108                        Mauritania                         42.7\n",
      "182                          Tanzania                         42.5\n",
      "26                       Burkina Faso                         41.8\n",
      "18                              Benin                         41.6\n",
      "190                            Zambia                         41.5\n",
      "30                           Cameroon                         41.4\n",
      "189                             Yemen                         41.1\n",
      "125                           Nigeria                         41.0\n",
      "44                      Côte d’Ivoire                         40.9\n"
     ]
    }
   ],
   "source": [
    "df.sort_values(by=\"Population Aged 0 to 14 (%)\",ascending=False,inplace=True)\n",
    "print(\"After Sorting\")\n",
    "print(df[['Country','Population Aged 0 to 14 (%)']].head(20))"
   ]
  },
  {
   "cell_type": "markdown",
   "id": "7cb6d263",
   "metadata": {},
   "source": [
    "# Sorting more than one column\n",
    "df.sort_value(by=['column_1','column_2','column_3'],ascending=[True,False,False],inplace=True)\n",
    "\n",
    "--> In 'by' parameter we have to give list of columns on which we have to apply the changes\n",
    "--> Even for every column we have to specify the value of ascending In list form"
   ]
  },
  {
   "cell_type": "code",
   "execution_count": null,
   "id": "41c2d112",
   "metadata": {},
   "outputs": [
    {
     "name": "stdout",
     "output_type": "stream",
     "text": [
      "         Country  Population Aged 0 to 14 (%)  \\\n",
      "191     Zimbabwe                         40.9   \n",
      "190       Zambia                         41.5   \n",
      "189        Yemen                         41.1   \n",
      "188      Vietnam                         23.2   \n",
      "187    Venezuela                         25.5   \n",
      "..           ...                          ...   \n",
      "4         Angola                         44.4   \n",
      "3        Andorra                         11.9   \n",
      "2        Algeria                         30.3   \n",
      "1        Albania                         16.8   \n",
      "0    Afghanistan                         42.9   \n",
      "\n",
      "     Population Aged 60 and Over (%)  Population density  \\\n",
      "191                              5.0                43.0   \n",
      "190                              3.3                28.7   \n",
      "189                              4.0                76.9   \n",
      "188                             13.9               322.2   \n",
      "187                             14.3                31.0   \n",
      "..                               ...                 ...   \n",
      "4                                4.6                30.4   \n",
      "3                               23.2               174.3   \n",
      "2                               10.0                19.7   \n",
      "1                               23.5               101.9   \n",
      "0                                3.9                65.7   \n",
      "\n",
      "     Population(in millions)  Female Population(in millions)  \\\n",
      "191                    16.63                            8.71   \n",
      "190                    21.32                           10.76   \n",
      "189                    40.58                           20.03   \n",
      "188                   100.99                           51.53   \n",
      "187                    28.41                           14.37   \n",
      "..                       ...                             ...   \n",
      "4                      37.89                           19.14   \n",
      "3                       0.08                            0.04   \n",
      "2                      46.81                           22.94   \n",
      "1                       2.79                            1.41   \n",
      "0                      42.65                           21.12   \n",
      "\n",
      "     Male Population(in millions)  Sex ratio (males per 100 females)  \n",
      "191                          7.93                               91.1  \n",
      "190                         10.55                               98.0  \n",
      "189                         20.56                              102.7  \n",
      "188                         49.46                               96.0  \n",
      "187                         14.03                               97.6  \n",
      "..                            ...                                ...  \n",
      "4                           18.75                               98.0  \n",
      "3                            0.04                              104.6  \n",
      "2                           23.87                              104.1  \n",
      "1                            1.38                               97.8  \n",
      "0                           21.53                              102.0  \n",
      "\n",
      "[192 rows x 8 columns]\n"
     ]
    }
   ],
   "source": [
    "df.sort_values(by=['Country','Population Aged 0 to 14 (%)'],ascending=[False,True],inplace=True)\n",
    "print(df[['Country','Population Aged 0 to 14 (%)']])"
   ]
  },
  {
   "cell_type": "markdown",
   "id": "11eb1748",
   "metadata": {},
   "source": [
    "Now if we are sorting two columns at same time if one column is acesending is True and Other column ascending is False then in this case first it will apply ascending for first column if the column has same name suppose if in the above case if  Country column has same value say \"India\" two times then if the second column is  Population Aged 0 to 14 (%) is ascending False then based on second column it will arrange the data "
   ]
  }
 ],
 "metadata": {
  "kernelspec": {
   "display_name": "myenv",
   "language": "python",
   "name": "python3"
  },
  "language_info": {
   "codemirror_mode": {
    "name": "ipython",
    "version": 3
   },
   "file_extension": ".py",
   "mimetype": "text/x-python",
   "name": "python",
   "nbconvert_exporter": "python",
   "pygments_lexer": "ipython3",
   "version": "3.12.3"
  }
 },
 "nbformat": 4,
 "nbformat_minor": 5
}
