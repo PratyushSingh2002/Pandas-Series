{
 "cells": [
  {
   "cell_type": "code",
   "execution_count": 23,
   "id": "0e2fb2f8",
   "metadata": {},
   "outputs": [],
   "source": [
    "import pandas as pd\n",
    "import numpy as np"
   ]
  },
  {
   "cell_type": "code",
   "execution_count": null,
   "id": "7ebe43c9",
   "metadata": {},
   "outputs": [],
   "source": [
    "data = {\n",
    "    'Name': ['Amit', 'Priya', 'Rahul', 'Sneha', None],\n",
    "    'Age': [25, 30, np.nan, 22, 28],\n",
    "    'City': ['Delhi', None, 'Mumbai', 'Pune', 'Bangalore']\n",
    "}"
   ]
  },
  {
   "cell_type": "code",
   "execution_count": null,
   "id": "2c61a9b4",
   "metadata": {},
   "outputs": [
    {
     "name": "stdout",
     "output_type": "stream",
     "text": [
      "    Name   Age       City\n",
      "0   Amit  25.0      Delhi\n",
      "1  Priya  30.0       None\n",
      "2  Rahul   NaN     Mumbai\n",
      "3  Sneha  22.0       Pune\n",
      "4   None  28.0  Bangalore\n"
     ]
    }
   ],
   "source": [
    "df=pd.DataFrame(data)\n",
    "print(df)"
   ]
  },
  {
   "cell_type": "markdown",
   "id": "c2390aa1",
   "metadata": {},
   "source": [
    "To delete coloumn or row containing null values we dropnan(axis=0/1,inpalce=True/False)\n",
    "Yeh tab use karne ka jab hume us row ya column ki zarurat nahi hain jo missing value store karta hain"
   ]
  },
  {
   "cell_type": "code",
   "execution_count": null,
   "id": "bc13653a",
   "metadata": {},
   "outputs": [],
   "source": [
    "df.dropna(axis=0,inplace=True)\n",
    "print(df)      "
   ]
  },
  {
   "cell_type": "code",
   "execution_count": null,
   "id": "39606107",
   "metadata": {},
   "outputs": [],
   "source": [
    "df.dropna(axis=1,inplace=True)\n",
    "print(df)"
   ]
  },
  {
   "cell_type": "markdown",
   "id": "87ba347c",
   "metadata": {},
   "source": [
    "Replacing Missing value with some other value \n",
    "for that we have fillna(value,inplace)"
   ]
  },
  {
   "cell_type": "code",
   "execution_count": null,
   "id": "ab71e56b",
   "metadata": {},
   "outputs": [
    {
     "name": "stdout",
     "output_type": "stream",
     "text": [
      "    Name   Age       City\n",
      "0   Amit  25.0      Delhi\n",
      "1  Priya  30.0          0\n",
      "2  Rahul   0.0     Mumbai\n",
      "3  Sneha  22.0       Pune\n",
      "4      0  28.0  Bangalore\n"
     ]
    }
   ],
   "source": [
    "df.fillna(0,inplace=True)\n",
    "print(df)    #upar wale  code ko comment kar dena taki missing value remove na ho warna iska output nhi aayega"
   ]
  },
  {
   "cell_type": "code",
   "execution_count": null,
   "id": "4f13b4b9",
   "metadata": {},
   "outputs": [],
   "source": [
    "df[\"Age\"].fillna(df[\"Age\"].mean(),inplace=True) # yeah age column ka mean value niklega aur usse missing value ke saath fill kar dega"
   ]
  }
 ],
 "metadata": {
  "kernelspec": {
   "display_name": "myenv",
   "language": "python",
   "name": "python3"
  },
  "language_info": {
   "codemirror_mode": {
    "name": "ipython",
    "version": 3
   },
   "file_extension": ".py",
   "mimetype": "text/x-python",
   "name": "python",
   "nbconvert_exporter": "python",
   "pygments_lexer": "ipython3",
   "version": "3.12.3"
  }
 },
 "nbformat": 4,
 "nbformat_minor": 5
}
