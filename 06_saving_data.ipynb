{
 "cells": [
  {
   "cell_type": "code",
   "execution_count": 33,
   "id": "ea7e9287",
   "metadata": {},
   "outputs": [],
   "source": [
    "import pandas as pd"
   ]
  },
  {
   "cell_type": "markdown",
   "id": "fc943076",
   "metadata": {},
   "source": [
    "# Creating data using dictionary"
   ]
  },
  {
   "cell_type": "code",
   "execution_count": 34,
   "id": "3dfc3a36",
   "metadata": {},
   "outputs": [],
   "source": [
    "data={\"name\":[\"Rahul\",\"Mahesh\",\"suresh\"],\"Age\":[20,20,18]}"
   ]
  },
  {
   "cell_type": "markdown",
   "id": "68a8b8cb",
   "metadata": {},
   "source": [
    "#Creating DataFrame "
   ]
  },
  {
   "cell_type": "code",
   "execution_count": 35,
   "id": "2e0c36b6",
   "metadata": {},
   "outputs": [],
   "source": [
    "df=pd.DataFrame(data)"
   ]
  },
  {
   "cell_type": "code",
   "execution_count": 36,
   "id": "592df48e",
   "metadata": {},
   "outputs": [
    {
     "name": "stdout",
     "output_type": "stream",
     "text": [
      "     name  Age\n",
      "0   Rahul   20\n",
      "1  Mahesh   20\n",
      "2  suresh   18\n"
     ]
    }
   ],
   "source": [
    "print(df)"
   ]
  },
  {
   "cell_type": "markdown",
   "id": "dc3866e7",
   "metadata": {},
   "source": [
    "## Inserting Data to CSV"
   ]
  },
  {
   "cell_type": "code",
   "execution_count": 37,
   "id": "d28ac7dc",
   "metadata": {},
   "outputs": [],
   "source": [
    "df.to_csv(\"06_check.csv\",index=False) # index=False means index insert nahi karega"
   ]
  },
  {
   "cell_type": "code",
   "execution_count": 38,
   "id": "9fe21ee4",
   "metadata": {},
   "outputs": [],
   "source": [
    "df.to_excel(\"06_check.xlsx\",index=False) # index=False means index insert nahi karega"
   ]
  },
  {
   "cell_type": "code",
   "execution_count": 39,
   "id": "0676bc2d",
   "metadata": {},
   "outputs": [],
   "source": [
    "df.to_json(\"06_check.json\",index=False) # index=False means index insert nahi karega"
   ]
  }
 ],
 "metadata": {
  "kernelspec": {
   "display_name": "myenv",
   "language": "python",
   "name": "python3"
  },
  "language_info": {
   "codemirror_mode": {
    "name": "ipython",
    "version": 3
   },
   "file_extension": ".py",
   "mimetype": "text/x-python",
   "name": "python",
   "nbconvert_exporter": "python",
   "pygments_lexer": "ipython3",
   "version": "3.12.3"
  }
 },
 "nbformat": 4,
 "nbformat_minor": 5
}
