{
 "cells": [
  {
   "cell_type": "code",
   "execution_count": 19,
   "id": "48a6114a",
   "metadata": {},
   "outputs": [],
   "source": [
    "import pandas as pd"
   ]
  },
  {
   "cell_type": "code",
   "execution_count": 20,
   "id": "a4a4fa1f",
   "metadata": {},
   "outputs": [
    {
     "name": "stdout",
     "output_type": "stream",
     "text": [
      "     name  Age\n",
      "0   Rahul   20\n",
      "1  Mahesh   20\n",
      "2  suresh   18\n"
     ]
    }
   ],
   "source": [
    "df=pd.read_csv(\"06_check.csv\")\n",
    "print(df)"
   ]
  },
  {
   "cell_type": "markdown",
   "id": "8313ebcb",
   "metadata": {},
   "source": [
    "To Delete Column we use Drop\n",
    "df.drop(columns=[\"column1\",\"column2\"],inplace=True/False)\n",
    "\n",
    "Inplace= True original dataframe ko modify kar dega is case mein df change ho jayega\n",
    "Inplace = False orifinal dataframe ko modify nahi karega isme df change nahi hoga toh hume df1 new dataframe bana hoga"
   ]
  },
  {
   "cell_type": "code",
   "execution_count": 21,
   "id": "d6acbd0e",
   "metadata": {},
   "outputs": [
    {
     "name": "stdout",
     "output_type": "stream",
     "text": [
      "     name\n",
      "0   Rahul\n",
      "1  Mahesh\n",
      "2  suresh\n",
      "     name  Age\n",
      "0   Rahul   20\n",
      "1  Mahesh   20\n",
      "2  suresh   18\n"
     ]
    }
   ],
   "source": [
    "df1=df.drop(columns=[\"Age\"],inplace=False)\n",
    "print(df1)\n",
    "print(df)"
   ]
  },
  {
   "cell_type": "code",
   "execution_count": null,
   "id": "ef2924a3",
   "metadata": {},
   "outputs": [],
   "source": []
  },
  {
   "cell_type": "code",
   "execution_count": null,
   "id": "4a7cc796",
   "metadata": {},
   "outputs": [],
   "source": []
  }
 ],
 "metadata": {
  "kernelspec": {
   "display_name": "myenv",
   "language": "python",
   "name": "python3"
  },
  "language_info": {
   "codemirror_mode": {
    "name": "ipython",
    "version": 3
   },
   "file_extension": ".py",
   "mimetype": "text/x-python",
   "name": "python",
   "nbconvert_exporter": "python",
   "pygments_lexer": "ipython3",
   "version": "3.12.3"
  }
 },
 "nbformat": 4,
 "nbformat_minor": 5
}
