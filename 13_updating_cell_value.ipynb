{
 "cells": [
  {
   "cell_type": "code",
   "execution_count": 11,
   "id": "0d8fce33",
   "metadata": {},
   "outputs": [],
   "source": [
    "import pandas as pd\n",
    "\n"
   ]
  },
  {
   "cell_type": "code",
   "execution_count": 12,
   "id": "4fc2012c",
   "metadata": {},
   "outputs": [
    {
     "name": "stdout",
     "output_type": "stream",
     "text": [
      "     name  Age\n",
      "0   Rahul   20\n",
      "1  Mahesh   20\n",
      "2  suresh   18\n"
     ]
    }
   ],
   "source": [
    "df=pd.read_csv(\"06_check.csv\")\n",
    "print(df)"
   ]
  },
  {
   "cell_type": "markdown",
   "id": "162959cd",
   "metadata": {},
   "source": [
    ".loc[row_index.\"Column_name\"] it is used to access the value of particular cell"
   ]
  },
  {
   "cell_type": "code",
   "execution_count": 13,
   "id": "67d913a8",
   "metadata": {},
   "outputs": [
    {
     "name": "stdout",
     "output_type": "stream",
     "text": [
      "20\n"
     ]
    }
   ],
   "source": [
    "print(df.loc[0,\"Age\"])"
   ]
  },
  {
   "cell_type": "code",
   "execution_count": 14,
   "id": "7ad07e22",
   "metadata": {},
   "outputs": [
    {
     "name": "stdout",
     "output_type": "stream",
     "text": [
      "     name  Age\n",
      "0   Rahul   21\n",
      "1  Mahesh   20\n",
      "2  suresh   18\n"
     ]
    }
   ],
   "source": [
    "df.loc[0,\"Age\"]=21    #it changes from 20 to 21\n",
    "print(df)"
   ]
  },
  {
   "cell_type": "code",
   "execution_count": 15,
   "id": "62bd1492",
   "metadata": {},
   "outputs": [],
   "source": [
    "# Updating everyone age by plus 5 years"
   ]
  },
  {
   "cell_type": "code",
   "execution_count": 16,
   "id": "74b4ccb7",
   "metadata": {},
   "outputs": [
    {
     "name": "stdout",
     "output_type": "stream",
     "text": [
      "     name  Age\n",
      "0   Rahul   26\n",
      "1  Mahesh   25\n",
      "2  suresh   23\n"
     ]
    }
   ],
   "source": [
    "df[\"Age\"]=df[\"Age\"]+5\n",
    "print(df)"
   ]
  },
  {
   "cell_type": "code",
   "execution_count": null,
   "id": "25490e98",
   "metadata": {},
   "outputs": [],
   "source": []
  },
  {
   "cell_type": "code",
   "execution_count": null,
   "id": "f558d3fe",
   "metadata": {},
   "outputs": [],
   "source": []
  }
 ],
 "metadata": {
  "kernelspec": {
   "display_name": "myenv",
   "language": "python",
   "name": "python3"
  },
  "language_info": {
   "codemirror_mode": {
    "name": "ipython",
    "version": 3
   },
   "file_extension": ".py",
   "mimetype": "text/x-python",
   "name": "python",
   "nbconvert_exporter": "python",
   "pygments_lexer": "ipython3",
   "version": "3.12.3"
  }
 },
 "nbformat": 4,
 "nbformat_minor": 5
}
