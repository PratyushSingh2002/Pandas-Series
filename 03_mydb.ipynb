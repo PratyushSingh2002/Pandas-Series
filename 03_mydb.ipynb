import pandas as pd
import mysql.connector
conn=mysql.connector.connect(host="localhost",
                             user="root",
                             password="50028812",
                             database="mydb",)
df=pd.read_sql("select * from Students",conn)
print(df)
