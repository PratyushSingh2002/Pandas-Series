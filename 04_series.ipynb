import pandas as pd 

# Series ek 1D labeled array hai — matlab ye list ki tarah hai, but har element ka label (index) hota hai.
l=["Ajay","Arun","Bheem"]
df=pd.Series(l)    
print(df)

#changing label of series
label=["a","b","c"]
df1=pd.Series(l,index=label)
print(df1)

#Accessing the values of series 
print(df[1])
print(df1["b"])

