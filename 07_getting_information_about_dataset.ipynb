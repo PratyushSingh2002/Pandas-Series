{
 "cells": [
  {
   "cell_type": "code",
   "execution_count": null,
   "id": "f8c6c0b3",
   "metadata": {},
   "outputs": [],
   "source": [
    "import pandas as pd"
   ]
  },
  {
   "cell_type": "code",
   "execution_count": null,
   "id": "452fa96f",
   "metadata": {},
   "outputs": [],
   "source": [
    "df=pd.read_csv(\"global_population_stats_2024.csv\")"
   ]
  },
  {
   "cell_type": "code",
   "execution_count": null,
   "id": "5181eebc",
   "metadata": {},
   "outputs": [],
   "source": [
    "print(df.info())"
   ]
  },
  {
   "cell_type": "markdown",
   "id": "7d3a5bf1",
   "metadata": {},
   "source": [
    "<!-- <class 'pandas.core.frame.DataFrame'>\n",
    "RangeIndex: 192 entries, 0 to 191\n",
    "Data columns (total 8 columns):\n",
    " #   Column                             Non-Null Count  Dtype  \n",
    "---  ------                             --------------  -----  \n",
    " 0   Country                            192 non-null    object            \n",
    " 1   Population Aged 0 to 14 (%)        192 non-null    float64\n",
    " 2   Population Aged 60 and Over (%)    192 non-null    float64\n",
    " 3   Population density                 192 non-null    float64\n",
    " 4   Population(in millions)            192 non-null    float64\n",
    " 5   Female Population(in millions)     192 non-null    float64\n",
    " 6   Male Population(in millions)       192 non-null    float64\n",
    " 7   Sex ratio (males per 100 females)  192 non-null    float64\n",
    "dtypes: float64(7), object(1)\n",
    "memory usage: 12.1+ KB\n",
    "None -->"
   ]
  }
 ],
 "metadata": {
  "kernelspec": {
   "display_name": "myenv",
   "language": "python",
   "name": "python3"
  },
  "language_info": {
   "codemirror_mode": {
    "name": "ipython",
    "version": 3
   },
   "file_extension": ".py",
   "mimetype": "text/x-python",
   "name": "python",
   "nbconvert_exporter": "python",
   "pygments_lexer": "ipython3",
   "version": "3.12.3"
  }
 },
 "nbformat": 4,
 "nbformat_minor": 5
}
