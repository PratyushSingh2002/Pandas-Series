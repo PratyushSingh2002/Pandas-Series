{
 "cells": [
  {
   "cell_type": "code",
   "execution_count": 9,
   "id": "a67074fc",
   "metadata": {},
   "outputs": [],
   "source": [
    "import pandas as pd"
   ]
  },
  {
   "cell_type": "code",
   "execution_count": 10,
   "id": "3f8354e6",
   "metadata": {},
   "outputs": [],
   "source": [
    "df=pd.read_json(\"students.json\")"
   ]
  },
  {
   "cell_type": "code",
   "execution_count": 11,
   "id": "080b23c4",
   "metadata": {},
   "outputs": [
    {
     "name": "stdout",
     "output_type": "stream",
     "text": [
      "                                            students\n",
      "0  {'id': 1, 'name': 'Amit Kumar', 'age': 21, 'gr...\n",
      "1  {'id': 2, 'name': 'Neha Singh', 'age': 22, 'gr...\n",
      "2  {'id': 3, 'name': 'Rohit Verma', 'age': 20, 'g...\n",
      "3  {'id': 4, 'name': 'Priya Sharma', 'age': 23, '...\n",
      "4  {'id': 5, 'name': 'Arjun Mehta', 'age': 21, 'g...\n",
      "                                            students\n",
      "0  {'id': 1, 'name': 'Amit Kumar', 'age': 21, 'gr...\n",
      "1  {'id': 2, 'name': 'Neha Singh', 'age': 22, 'gr...\n",
      "2  {'id': 3, 'name': 'Rohit Verma', 'age': 20, 'g...\n",
      "3  {'id': 4, 'name': 'Priya Sharma', 'age': 23, '...\n",
      "4  {'id': 5, 'name': 'Arjun Mehta', 'age': 21, 'g...\n",
      "                                            students\n",
      "0  {'id': 1, 'name': 'Amit Kumar', 'age': 21, 'gr...\n",
      "1  {'id': 2, 'name': 'Neha Singh', 'age': 22, 'gr...\n",
      "2  {'id': 3, 'name': 'Rohit Verma', 'age': 20, 'g...\n",
      "3  {'id': 4, 'name': 'Priya Sharma', 'age': 23, '...\n",
      "4  {'id': 5, 'name': 'Arjun Mehta', 'age': 21, 'g...\n"
     ]
    }
   ],
   "source": [
    "print(df)\n",
    "print(df.head(10))  #reads first five data by default if no arguments are passed \n",
    "print(df.tail(10))   #reads last five data  by default if no arguments are passed"
   ]
  },
  {
   "cell_type": "code",
   "execution_count": null,
   "id": "cc6d2c6c",
   "metadata": {},
   "outputs": [],
   "source": []
  }
 ],
 "metadata": {
  "kernelspec": {
   "display_name": "Python 3 (ipykernel)",
   "language": "python",
   "name": "python3"
  },
  "language_info": {
   "codemirror_mode": {
    "name": "ipython",
    "version": 3
   },
   "file_extension": ".py",
   "mimetype": "text/x-python",
   "name": "python",
   "nbconvert_exporter": "python",
   "pygments_lexer": "ipython3",
   "version": "3.12.3"
  }
 },
 "nbformat": 4,
 "nbformat_minor": 5
}
