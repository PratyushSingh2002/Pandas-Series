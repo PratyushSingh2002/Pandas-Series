{
 "cells": [
  {
   "cell_type": "code",
   "execution_count": 33,
   "id": "c0ea1926",
   "metadata": {},
   "outputs": [],
   "source": [
    "import pandas as pd"
   ]
  },
  {
   "cell_type": "code",
   "execution_count": 34,
   "id": "1b05a46b",
   "metadata": {},
   "outputs": [],
   "source": [
    "df=pd.read_csv(\"global_population_stats_2024.csv\")"
   ]
  },
  {
   "cell_type": "code",
   "execution_count": 35,
   "id": "5db7dbd7",
   "metadata": {},
   "outputs": [
    {
     "name": "stdout",
     "output_type": "stream",
     "text": [
      "(192, 8)\n"
     ]
    }
   ],
   "source": [
    "print(df.shape) #Displays Rows x Columns "
   ]
  },
  {
   "cell_type": "code",
   "execution_count": 36,
   "id": "9514e46f",
   "metadata": {},
   "outputs": [
    {
     "name": "stdout",
     "output_type": "stream",
     "text": [
      "Index(['Country', 'Population Aged 0 to 14 (%)',\n",
      "       'Population Aged 60 and Over (%)', 'Population density',\n",
      "       'Population(in millions)', 'Female Population(in millions)',\n",
      "       'Male Population(in millions)', 'Sex ratio (males per 100 females)'],\n",
      "      dtype='object')\n"
     ]
    }
   ],
   "source": [
    "print(df.columns)   #Displays name of all the columns"
   ]
  },
  {
   "cell_type": "code",
   "execution_count": null,
   "id": "b1c95802",
   "metadata": {},
   "outputs": [],
   "source": []
  },
  {
   "cell_type": "code",
   "execution_count": null,
   "id": "1c62891c",
   "metadata": {},
   "outputs": [],
   "source": []
  }
 ],
 "metadata": {
  "kernelspec": {
   "display_name": "Python 3 (ipykernel)",
   "language": "python",
   "name": "python3"
  },
  "language_info": {
   "codemirror_mode": {
    "name": "ipython",
    "version": 3
   },
   "file_extension": ".py",
   "mimetype": "text/x-python",
   "name": "python",
   "nbconvert_exporter": "python",
   "pygments_lexer": "ipython3",
   "version": "3.12.3"
  }
 },
 "nbformat": 4,
 "nbformat_minor": 5
}
