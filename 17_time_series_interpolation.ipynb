{
 "cells": [
  {
   "cell_type": "markdown",
   "id": "3fdbe62f",
   "metadata": {},
   "source": [
    "## Use Time series interpolation method when the index is In Date format"
   ]
  },
  {
   "cell_type": "code",
   "execution_count": 70,
   "id": "168f9402",
   "metadata": {},
   "outputs": [],
   "source": [
    "import pandas as pd"
   ]
  },
  {
   "cell_type": "code",
   "execution_count": 71,
   "id": "88390d28",
   "metadata": {},
   "outputs": [],
   "source": [
    "import numpy as np"
   ]
  },
  {
   "cell_type": "code",
   "execution_count": 72,
   "id": "a6333e08",
   "metadata": {},
   "outputs": [
    {
     "name": "stdout",
     "output_type": "stream",
     "text": [
      "Before Interpolation\n",
      "            price\n",
      "2025-10-03  103.0\n",
      "2025-10-04  405.0\n",
      "2025-10-05  606.0\n",
      "2025-10-06    NaN\n",
      "2025-10-07  540.0\n",
      "2025-10-08  657.0\n",
      "2025-10-09    NaN\n",
      "2025-10-10    NaN\n",
      "2025-10-11  412.0\n"
     ]
    }
   ],
   "source": [
    "data={\"price\":[103,405,606,np.nan,540,657,np.nan,np.nan,412]}\n",
    "date=pd.date_range('2025-10-03',periods=9,freq='d')\n",
    "df=pd.DataFrame(data,index=date)\n",
    "\n",
    "print(\"Before Interpolation\")\n",
    "print(df)\n",
    "\n",
    "\n"
   ]
  },
  {
   "cell_type": "code",
   "execution_count": 73,
   "id": "1bd0eca8",
   "metadata": {},
   "outputs": [
    {
     "name": "stdout",
     "output_type": "stream",
     "text": [
      "After Interpolation\n",
      "                 price\n",
      "2025-10-03  103.000000\n",
      "2025-10-04  405.000000\n",
      "2025-10-05  606.000000\n",
      "2025-10-06  573.000000\n",
      "2025-10-07  540.000000\n",
      "2025-10-08  657.000000\n",
      "2025-10-09  575.333333\n",
      "2025-10-10  493.666667\n",
      "2025-10-11  412.000000\n"
     ]
    }
   ],
   "source": [
    "print(\"After Interpolation\")\n",
    "new_df=df[['price']].interpolate(method=\"time\",axis=0,inplace=False)\n",
    "print(new_df)"
   ]
  },
  {
   "cell_type": "markdown",
   "id": "eb96455f",
   "metadata": {},
   "source": [
    "# 🧮 Linear / Time Interpolation Calculation (Manual)\n",
    "\n",
    "## 📅 Given Dataset\n",
    "\n",
    "| Date | Price |\n",
    "|-------|--------|\n",
    "| 2025-10-03 | 103.0 |\n",
    "| 2025-10-04 | 405.0 |\n",
    "| 2025-10-05 | 606.0 |\n",
    "| 2025-10-06 | NaN ❌ |\n",
    "| 2025-10-07 | 540.0 |\n",
    "| 2025-10-08 | 657.0 |\n",
    "| 2025-10-09 | NaN ❌ |\n",
    "| 2025-10-10 | NaN ❌ |\n",
    "| 2025-10-11 | 412.0 |\n",
    "\n",
    "---\n",
    "\n",
    "## 🧠 Interpolation Formula\n",
    "\n",
    "**Formula:**\n",
    "Y = Y1 + ((X - X1) / (X2 - X1)) * (Y2 - Y1)\n",
    "\n",
    "\n",
    "Where:  \n",
    "- Y1, Y2 → Known data values  \n",
    "- X1, X2 → Corresponding time/index values  \n",
    "- X → Missing time point  \n",
    "- Y → Interpolated value  \n",
    "\n",
    "> Since all dates are equally spaced (1-day apart),  \n",
    "> both `linear` and `time` interpolation give the **same result**.\n",
    "\n",
    "---\n",
    "\n",
    "## 🔹 Step 1: Interpolate for 2025-10-06\n",
    "\n",
    "**Known values:**\n",
    "- X1 = 2025-10-05, Y1 = 606  \n",
    "- X2 = 2025-10-07, Y2 = 540  \n",
    "- X = 2025-10-06  \n",
    "\n",
    "**Calculation:**\n",
    "Y = 606 + ((1) / (2)) * (540 - 606)\n",
    "Y = 606 - 33\n",
    "Y = 573.0\n",
    "\n",
    "\n",
    "\n",
    "✅ **Interpolated (2025-10-06) = 573.0**\n",
    "\n",
    "---\n",
    "\n",
    "## 🔹 Step 2: Interpolate for 2025-10-09 and 2025-10-10\n",
    "\n",
    "**Known values:**\n",
    "- X1 = 2025-10-08, Y1 = 657  \n",
    "- X2 = 2025-10-11, Y2 = 412  \n",
    "\n",
    "**Total difference:**\n",
    "Y2 - Y1 = 412 - 657 = -245\n",
    "\n",
    "\n",
    "\n",
    "**Step difference (3 intervals):**\n",
    "-245 / 3 = -81.67\n",
    "\n",
    "\n",
    "\n",
    "| Date | Formula | Value |\n",
    "|-------|----------|--------|\n",
    "| 2025-10-08 | Given | 657.00 |\n",
    "| 2025-10-09 | 657 - 81.67 | 575.33 |\n",
    "| 2025-10-10 | 575.33 - 81.67 | 493.66 |\n",
    "| 2025-10-11 | Given | 412.00 |\n",
    "\n",
    "✅ **Interpolated (2025-10-09) = 575.33**  \n",
    "✅ **Interpolated (2025-10-10) = 493.67**\n",
    "\n",
    "---\n",
    "\n",
    "## ✅ Final Interpolated Table\n",
    "\n",
    "| Date | Price |\n",
    "|-------|--------|\n",
    "| 2025-10-03 | 103.0 |\n",
    "| 2025-10-04 | 405.0 |\n",
    "| 2025-10-05 | 606.0 |\n",
    "| 2025-10-06 | **573.0** |\n",
    "| 2025-10-07 | 540.0 |\n",
    "| 2025-10-08 | 657.0 |\n",
    "| 2025-10-09 | **575.33** |\n",
    "| 2025-10-10 | **493.67** |\n",
    "| 2025-10-11 | 412.0 |\n",
    "\n",
    "---\n",
    "\n",
    "## 💡 Summary\n",
    "\n",
    "| Point | Description |\n",
    "|--------|--------------|\n",
    "| Formula Used | Y = Y1 + ((X - X1) / (X2 - X1)) * (Y2 - Y1) |\n",
    "| Interpolation Type | Linear or Time (both same here due to equal 1-day gaps) |\n",
    "| Interpolated Points | 2025-10-06 → 573.0, 2025-10-09 → 575.33, 2025-10-10 → 493.67 |\n",
    "| Key Note | When time gaps are equal, `method='linear'` and `method='time'` give identical results. |\n"
   ]
  }
 ],
 "metadata": {
  "kernelspec": {
   "display_name": "myenv",
   "language": "python",
   "name": "python3"
  },
  "language_info": {
   "codemirror_mode": {
    "name": "ipython",
    "version": 3
   },
   "file_extension": ".py",
   "mimetype": "text/x-python",
   "name": "python",
   "nbconvert_exporter": "python",
   "pygments_lexer": "ipython3",
   "version": "3.12.3"
  }
 },
 "nbformat": 4,
 "nbformat_minor": 5
}
