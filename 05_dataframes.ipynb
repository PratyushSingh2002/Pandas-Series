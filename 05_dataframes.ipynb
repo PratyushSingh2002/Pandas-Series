import pandas as pd

# DataFrame ek 2D labeled data structure hai, jisme rows aur columns dono ka label hota hai. Excel ki tarah samajh le.

data={"name":["Alice", "Sanjay","Suhana","Rakesh"],
      "age":[14,14,15,12],
      "percentage":[98.0,59.0,85.0,93.8],
      "state":["Gujarat","UP","Odisha","Kerela"]}
df=pd.DataFrame(data)
print(df)

#      name  age  percentage    state
# 0   Alice   14        98.0  Gujarat
# 1  Sanjay   14        59.0       UP
# 2  Suhana   15        85.0   Odisha
# 3  Rakesh   12        93.8   Kerela

data={"name":["Alice", "Sanjay","Suhana","Rakesh"],
      "age":20,
      "percentage":[98.0,59.0,85.0,93.8],
      "state":["Gujarat","UP","Odisha","Kerela"]}
df=pd.DataFrame(data)
print(df)

#   name  age  percentage    state
# 0   Alice   20        98.0  Gujarat
# 1  Sanjay   20        59.0       UP
# 2  Suhana   20        85.0   Odisha
# 3  Rakesh   20        93.8   Kerela


#Accessing the values
print(df["percentage"])
print(df[["percentage","state","age"]])   #Accessing  Multiple columns
print(df[0,"percentage"])
