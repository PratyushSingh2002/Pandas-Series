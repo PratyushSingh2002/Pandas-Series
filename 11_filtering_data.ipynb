{
 "cells": [
  {
   "cell_type": "code",
   "execution_count": 137,
   "id": "43881c48-d58c-427c-8a97-aaf62c68d397",
   "metadata": {},
   "outputs": [],
   "source": [
    "import pandas as pd"
   ]
  },
  {
   "cell_type": "code",
   "execution_count": 138,
   "id": "184b10d7-36fe-4cc5-bcdd-1ad3ba1ec45e",
   "metadata": {},
   "outputs": [],
   "source": [
    "df=pd.read_csv(\"global_population_stats_2024.csv\")"
   ]
  },
  {
   "cell_type": "code",
   "execution_count": 139,
   "id": "0a759678-abbe-4089-8e64-5598e11ff2d8",
   "metadata": {},
   "outputs": [
    {
     "name": "stdout",
     "output_type": "stream",
     "text": [
      "0      Afghanistan\n",
      "1          Albania\n",
      "2          Algeria\n",
      "3          Andorra\n",
      "4           Angola\n",
      "          ...     \n",
      "187      Venezuela\n",
      "188        Vietnam\n",
      "189          Yemen\n",
      "190         Zambia\n",
      "191       Zimbabwe\n",
      "Name: Country, Length: 192, dtype: object\n"
     ]
    }
   ],
   "source": [
    "print(df[\"Country\"])   #Selecting single column"
   ]
  },
  {
   "cell_type": "code",
   "execution_count": 140,
   "id": "d98cffd1-eed1-44f4-943c-5a448963caaf",
   "metadata": {},
   "outputs": [
    {
     "name": "stdout",
     "output_type": "stream",
     "text": [
      "         Country  Population Aged 0 to 14 (%)  \\\n",
      "0    Afghanistan                         42.9   \n",
      "1        Albania                         16.8   \n",
      "2        Algeria                         30.3   \n",
      "3        Andorra                         11.9   \n",
      "4         Angola                         44.4   \n",
      "..           ...                          ...   \n",
      "187    Venezuela                         25.5   \n",
      "188      Vietnam                         23.2   \n",
      "189        Yemen                         41.1   \n",
      "190       Zambia                         41.5   \n",
      "191     Zimbabwe                         40.9   \n",
      "\n",
      "     Sex ratio (males per 100 females)  \n",
      "0                                102.0  \n",
      "1                                 97.8  \n",
      "2                                104.1  \n",
      "3                                104.6  \n",
      "4                                 98.0  \n",
      "..                                 ...  \n",
      "187                               97.6  \n",
      "188                               96.0  \n",
      "189                              102.7  \n",
      "190                               98.0  \n",
      "191                               91.1  \n",
      "\n",
      "[192 rows x 3 columns]\n"
     ]
    }
   ],
   "source": [
    "print(df[[\"Country\",\"Population Aged 0 to 14 (%)\",\"Sex ratio (males per 100 females)\"]]) #selecting multiple columns"
   ]
  },
  {
   "cell_type": "code",
   "execution_count": 141,
   "id": "da5ca645-4a6f-4054-87d0-c88286821f01",
   "metadata": {},
   "outputs": [
    {
     "name": "stdout",
     "output_type": "stream",
     "text": [
      "   Country  Population Aged 0 to 14 (%)  Population Aged 60 and Over (%)  \\\n",
      "77   India                         24.6                             10.8   \n",
      "\n",
      "    Population density  Population(in millions)  \\\n",
      "77               488.0                  1450.94   \n",
      "\n",
      "    Female Population(in millions)  Male Population(in millions)  \\\n",
      "77                          702.61                        748.32   \n",
      "\n",
      "    Sex ratio (males per 100 females)  \n",
      "77                              106.5  \n"
     ]
    }
   ],
   "source": [
    "print(df[df[\"Country\"]==\"India\"])   #Adding single condition to single column"
   ]
  },
  {
   "cell_type": "code",
   "execution_count": 142,
   "id": "a64ad0f4-7352-4750-820d-4c14762cbfff",
   "metadata": {},
   "outputs": [
    {
     "name": "stdout",
     "output_type": "stream",
     "text": [
      "                              Country  Population Aged 0 to 14 (%)\n",
      "0                         Afghanistan                         42.9\n",
      "4                              Angola                         44.4\n",
      "18                              Benin                         41.6\n",
      "26                       Burkina Faso                         41.8\n",
      "27                            Burundi                         44.7\n",
      "30                           Cameroon                         41.4\n",
      "32           Central African Republic                         49.0\n",
      "33                               Chad                         46.1\n",
      "38                              Congo                         40.4\n",
      "44                      Côte d’Ivoire                         40.9\n",
      "46   Democratic Republic of the Congo                         46.0\n",
      "63                             Gambia                         40.2\n",
      "70                             Guinea                         40.9\n",
      "102                            Malawi                         40.7\n",
      "105                              Mali                         46.1\n",
      "108                        Mauritania                         42.7\n",
      "116                        Mozambique                         44.5\n",
      "124                             Niger                         46.6\n",
      "125                           Nigeria                         41.0\n",
      "158                           Somalia                         46.6\n",
      "163                             Sudan                         40.5\n",
      "178                            Uganda                         43.5\n",
      "182                          Tanzania                         42.5\n",
      "189                             Yemen                         41.1\n",
      "190                            Zambia                         41.5\n",
      "191                          Zimbabwe                         40.9\n",
      "number of countries whose Population Aged 0 to 14  between 40 to 50 are 26\n"
     ]
    }
   ],
   "source": [
    "mask=df[(df[\"Population Aged 0 to 14 (%)\"]>40) & (df[\"Population Aged 0 to 14 (%)\"]<50)]\n",
    "print(mask[[\"Country\",\"Population Aged 0 to 14 (%)\"]])\n",
    "print(f\"number of countries whose Population Aged 0 to 14  between 40 to 50 are {mask.shape[0]}\")\n",
    "\n",
    "#Displaying list of contries whose population is between 40 & 50"
   ]
  },
  {
   "cell_type": "code",
   "execution_count": null,
   "id": "bd50ffa0-e9e2-4d2b-86be-b47357eb9b04",
   "metadata": {},
   "outputs": [],
   "source": []
  },
  {
   "cell_type": "code",
   "execution_count": null,
   "id": "6c76aa7f-ef3a-41b5-9136-c46334952c95",
   "metadata": {},
   "outputs": [],
   "source": []
  },
  {
   "cell_type": "code",
   "execution_count": null,
   "id": "7b6d19e6-916e-4275-978a-cc432cfa1938",
   "metadata": {},
   "outputs": [],
   "source": []
  }
 ],
 "metadata": {
  "kernelspec": {
   "display_name": "myenv",
   "language": "python",
   "name": "python3"
  },
  "language_info": {
   "codemirror_mode": {
    "name": "ipython",
    "version": 3
   },
   "file_extension": ".py",
   "mimetype": "text/x-python",
   "name": "python",
   "nbconvert_exporter": "python",
   "pygments_lexer": "ipython3",
   "version": "3.12.3"
  }
 },
 "nbformat": 4,
 "nbformat_minor": 5
}
